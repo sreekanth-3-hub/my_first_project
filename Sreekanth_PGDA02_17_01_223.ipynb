{
 "cells": [
  {
   "cell_type": "markdown",
   "id": "556eb4db",
   "metadata": {},
   "source": [
    "1. Given below are a list of positive and negative words. Also a list of\n",
    "comments is provided. Segregate the comments based on positive and\n",
    "negative sentiments.\n",
    "positive = ['good','awesome', 'best', 'nice']\n",
    "negative = ['worst','awful']\n",
    "comments = ['He is a good boy',\n",
    "'Food is the worst here',\n",
    "'He is an awesome player',\n",
    "'She is the best',\n",
    "'This pizza tastes awful',\n",
    "'These burger are really nice']"
   ]
  },
  {
   "cell_type": "code",
   "execution_count": 1,
   "id": "011ea477",
   "metadata": {},
   "outputs": [
    {
     "name": "stdout",
     "output_type": "stream",
     "text": [
      "['He is a good boy', 'He is an awesome player', 'She is the best', 'These burger are really nice']\n",
      "['Food is the worst here', 'This pizza tastes awful']\n",
      "[]\n"
     ]
    }
   ],
   "source": [
    "positive = ['good','awesome', 'best', 'nice']\n",
    "negative = ['worst','awful']\n",
    "comments = ['He is a good boy',\n",
    "'Food is the worst here',\n",
    "'He is an awesome player',\n",
    "'She is the best',\n",
    "'This pizza tastes awful',\n",
    "'These burger are really nice']\n",
    "\n",
    "positive_comments = [] \n",
    "negative_comments = []\n",
    "other_comments = []\n",
    "\n",
    "for i in comments:\n",
    "    if any(j in i for j in positive):\n",
    "        positive_comments.append(i) \n",
    "    elif any(j in i for j in negative):\n",
    "        negative_comments.append(i)\n",
    "    else:\n",
    "        other_comments.append(i)\n",
    "            \n",
    "print(positive_comments)\n",
    "print(negative_comments)\n",
    "print(other_comments)"
   ]
  },
  {
   "cell_type": "markdown",
   "id": "8fe03d97",
   "metadata": {},
   "source": [
    "2. Create a dictionary containing three lambda functions square, cube\n",
    "and square root.\n",
    "E.g. dict = {'Square': function for squaring, 'Cube': function for cube,\n",
    "'Squareroot': function for square root}\n",
    "Pass the values (input from the user)to the functions in the dictionary\n",
    "respectively. Then add the outputs of each function and print it"
   ]
  },
  {
   "cell_type": "code",
   "execution_count": 2,
   "id": "a837ff72",
   "metadata": {},
   "outputs": [
    {
     "name": "stdout",
     "output_type": "stream",
     "text": [
      "Enter the Number : 10\n",
      "20\n"
     ]
    }
   ],
   "source": [
    "n = int(input(\"Enter the Number : \"))\n",
    "def val(n):\n",
    "    #define dictionary \n",
    "    dictonary = { 'Square': lambda a : a*2,# using the lambda function\n",
    "                 'Cube': lambda a : a3, \n",
    "                 'Squareroot': lambda a : a*(1/2)}\n",
    "    sum = 0\n",
    "    for key in dictonary.keys():\n",
    "        sum += dictonary[key](n)  # lambda returns a function object\n",
    "\n",
    "        return sum\n",
    "print(val(n))"
   ]
  },
  {
   "cell_type": "markdown",
   "id": "199e8f91",
   "metadata": {},
   "source": [
    "3. Find the fruits that are sour in taste from the tuple given below.\n",
    "fruits = (('Lemon','sour'),\n",
    " ('DragonFruit', 'Sweet'),\n",
    " ('Grapes','soUr'),\n",
    " ('Kiwi','Sour'),\n",
    " ('Apples','sweet'),\n",
    " ('Orange','sour'),\n",
    " ('Blueberries','sweet'),\n",
    " ('Limes','Sour')"
   ]
  },
  {
   "cell_type": "code",
   "execution_count": 3,
   "id": "c51458e6",
   "metadata": {},
   "outputs": [
    {
     "name": "stdout",
     "output_type": "stream",
     "text": [
      "output :  ['Lemon', 'Grapes', 'Kiwi', 'Orange', 'Limes']\n"
     ]
    }
   ],
   "source": [
    "# the given element from a list of tuples\n",
    "fruits = (('Lemon','sour'),\n",
    " ('DragonFruit', 'Sweet'),\n",
    " ('Grapes','soUr'),\n",
    " ('Kiwi','Sour'),\n",
    " ('Apples','sweet'),\n",
    " ('Orange','sour'),\n",
    " ('Blueberries','sweet'),\n",
    " ('Limes','Sour'))# List of tuples\n",
    "output = []\n",
    "\n",
    "\n",
    "for i in fruits:# Find an element in list of tuples.\n",
    "\n",
    "    for j in i:\n",
    "        if j.lower() == 'sour':\n",
    "            output.append(i[0])\n",
    "print(\"output : \" , output)# Printing output\n"
   ]
  },
  {
   "cell_type": "markdown",
   "id": "285404d7",
   "metadata": {},
   "source": [
    "4.A list of words is given. Find the words from the list that have their \n",
    "second character in uppercase.\n",
    "ls = ['hello', 'Dear', 'hOw', 'ARe', 'You']\n",
    "Output: ['hOw', 'ARe']"
   ]
  },
  {
   "cell_type": "code",
   "execution_count": 4,
   "id": "bc3718d0",
   "metadata": {},
   "outputs": [
    {
     "name": "stdout",
     "output_type": "stream",
     "text": [
      "output :  ['hOw', 'ARe']\n"
     ]
    }
   ],
   "source": [
    "ls =['hello','Dear','hOw','ARe','You']\n",
    "# Words starting with specific letter\n",
    "output = [] \n",
    "for i in ls:\n",
    "    if i[1].isupper(): # using list upper()\n",
    "                        # Words starting with specific letter\n",
    "        output.append(i)\n",
    "print(\"output : \", output)"
   ]
  },
  {
   "cell_type": "markdown",
   "id": "d5226670",
   "metadata": {},
   "source": [
    "5.A dictionary of names and their weights on earth is given. Find how \n",
    "much they will weigh on the moon. (Use map and lambda functions)\n",
    "Formula : wMoon = (wEarth * GMoon) / GEarth\n",
    "# Weight of people in kg\n",
    "WeightOnEarth = {'John':45, 'Shelly':65, 'Marry':35} \n",
    "# Gravitational force on the Moon: 1.622 m/s2\n",
    "GMoon = 1.622 \n",
    "# Gravitational force on the Earth: 9.81 m/s2\n",
    "GEarth = 9.81 \n",
    "Output: \n",
    "Weight on Moon: {'John': 7.44, 'Shelly': 10.75, 'Marry': 5.79}"
   ]
  },
  {
   "cell_type": "code",
   "execution_count": 8,
   "id": "47f65a93",
   "metadata": {},
   "outputs": [
    {
     "name": "stdout",
     "output_type": "stream",
     "text": [
      "Weight On Moon:  {'John': 7.44, 'Shelly': 10.75, 'Marry': 5.79}\n"
     ]
    }
   ],
   "source": [
    "WeightOnEarth = {'John' : 45 ,\n",
    "                'Shelly' : 65,\n",
    "                'Marry': 35}\n",
    "\n",
    "GMoon = 1.622\n",
    "GEarth = 9.81\n",
    "print('Weight On Moon: ', (dict(map(lambda x : (x, round(WeightOnEarth[x]*GMoon/GEarth, 2)), WeightOnEarth))))\n"
   ]
  },
  {
   "cell_type": "markdown",
   "id": "8bc5c534",
   "metadata": {},
   "source": [
    "6. Write a program to fetch the words from the given list which have their \n",
    "first character in uppercase.\n",
    "namesList = ['santa Maria', 'Hello World','Merry christmas', 'tHank \n",
    "You']\n",
    "Output: ['Maria', 'Hello', 'World', 'Merry', 'You']"
   ]
  },
  {
   "cell_type": "code",
   "execution_count": 9,
   "id": "1c1c7132",
   "metadata": {},
   "outputs": [
    {
     "name": "stdout",
     "output_type": "stream",
     "text": [
      "output :  ['Maria', 'Hello', 'World', 'Merry', 'You']\n"
     ]
    }
   ],
   "source": [
    "namesList=['santa', 'Maria', 'Hello', 'World','Merry' , 'christmas', 'tHank','You']\n",
    "output = []\n",
    "for i in namesList:\n",
    "    if i[0].isupper(): output.append(i)\n",
    "print(\"output : \", output)"
   ]
  },
  {
   "cell_type": "markdown",
   "id": "eb7dc120",
   "metadata": {},
   "source": [
    "7. A list containing multiple lists is given. Convert each inner list into sets \n",
    "and find the intersection of all the sets.\n",
    "Use reduce function.\n",
    "given_sets = [[1, 2, 3, 4, 8], [2, 3, 8, 5, 6], [8, 4, 5, 3, 7], [6, 9, 8, 3], [9, \n",
    "12, 3, 7, 6, 8, 4, 6, 21, 1, 6]]\n",
    "Output: {8, 3}\n"
   ]
  },
  {
   "cell_type": "code",
   "execution_count": 10,
   "id": "4a93bcf2",
   "metadata": {},
   "outputs": [
    {
     "data": {
      "text/plain": [
       "{3, 8}"
      ]
     },
     "execution_count": 10,
     "metadata": {},
     "output_type": "execute_result"
    }
   ],
   "source": [
    "# of lists to a list of sets\n",
    "from functools import reduce# python3 program to convert list\n",
    "given_sets = [[1, 2, 3, 4, 8], [2, 3, 8, 5, 6], [8, 4, 5, 3, 7], [6, 9, 8, 3], [9, 12, 3, 7, 6, 8, 4, 6, 21, 1, 6]] \n",
    "reduce(lambda a, b: a.intersection(b), map(set, given_sets))# convert list of lists to list of sets\n"
   ]
  },
  {
   "cell_type": "markdown",
   "id": "3cdced80",
   "metadata": {},
   "source": [
    "8. Find the cumulative average of the list [9,8,7,6,5] using accumulate() \n",
    "and lambda function.\n"
   ]
  },
  {
   "cell_type": "code",
   "execution_count": 11,
   "id": "d3e7236a",
   "metadata": {},
   "outputs": [
    {
     "name": "stdout",
     "output_type": "stream",
     "text": [
      "[9, 8.5, 7.75, 6.875, 5.9375]\n"
     ]
    }
   ],
   "source": [
    "# Python code to get the Cumulative sum of a list\n",
    "\n",
    "out = []\n",
    "from itertools import accumulate \n",
    "result=accumulate([9,8,7,6,5],lambda x,y:(x+y)/2) \n",
    "for res in result :\n",
    "    out.append(res)\n",
    "print(out)"
   ]
  },
  {
   "cell_type": "markdown",
   "id": "809dee77",
   "metadata": {},
   "source": [
    "9. A list of words is given. Convert the words into uppercase. Use lambda \n",
    "and map functions.\n",
    "lsbool = ['True','FALse','tRUe','tRue','False','faLse']\n",
    "Output: ['TRUE', 'FALSE', 'TRUE', 'TRUE', 'FALSE', 'FALSE']"
   ]
  },
  {
   "cell_type": "code",
   "execution_count": 12,
   "id": "2b1cc2fd",
   "metadata": {},
   "outputs": [
    {
     "name": "stdout",
     "output_type": "stream",
     "text": [
      "output :  ['TRUE', 'FALSE', 'TRUE', 'TRUE', 'FALSE', 'FALSE']\n"
     ]
    }
   ],
   "source": [
    "output = []\n",
    "lsbool = ['True','FALse','tRUe','tRue','False','faLse']\n",
    "out = map(lambda x:x.upper(), lsbool)\n",
    "for i in out:\n",
    "    output.append(i)#appeend with mt list\n",
    "print(\"output : \", output)"
   ]
  },
  {
   "cell_type": "markdown",
   "id": "1966b4d5",
   "metadata": {},
   "source": [
    "10. A list of dates (dd-mm-yyyy) in the form of string is given below. \n",
    "Create a new list that stores years i.e. the 'yyyy' part from the dates in \n",
    "the given list.\n",
    "datesList = ['17-12-1997','22-04-2011','01-05-1993','19-06-2020']\n",
    "Output: ['1997','2011','1993','2020'"
   ]
  },
  {
   "cell_type": "code",
   "execution_count": 13,
   "id": "3908bd89",
   "metadata": {},
   "outputs": [
    {
     "name": "stdout",
     "output_type": "stream",
     "text": [
      "['1997', '2011', '1993', '2020']\n"
     ]
    }
   ],
   "source": [
    "from datetime import datetime# Import the datetime module\n",
    "datesList = ['17-12-1997','22-04-2011','01-05-1993','19-06-2020']\n",
    "output = []\n",
    "for i in datesList:\n",
    "    str1 = datetime.strptime(i,\"%d-%m-%Y\").year\n",
    "    output.append(str(str1))#append with mt output list\n",
    "\n",
    "print (output)"
   ]
  },
  {
   "cell_type": "code",
   "execution_count": 4,
   "id": "12f23203",
   "metadata": {},
   "outputs": [
    {
     "ename": "ValueError",
     "evalue": "invalid literal for int() with base 10: ''",
     "output_type": "error",
     "traceback": [
      "\u001b[1;31m---------------------------------------------------------------------------\u001b[0m",
      "\u001b[1;31mValueError\u001b[0m                                Traceback (most recent call last)",
      "Cell \u001b[1;32mIn[4], line 1\u001b[0m\n\u001b[1;32m----> 1\u001b[0m rows \u001b[39m=\u001b[39m\u001b[39mint\u001b[39;49m(\u001b[39minput\u001b[39;49m(\u001b[39m\"\u001b[39;49m\u001b[39mEnter number of rows\u001b[39;49m\u001b[39m\"\u001b[39;49m))\n\u001b[0;32m      2\u001b[0m \u001b[39mfor\u001b[39;00m i \u001b[39min\u001b[39;00m \u001b[39mrange\u001b[39m(\u001b[39m1\u001b[39m,rows \u001b[39m+\u001b[39m \u001b[39m1\u001b[39m):\n\u001b[0;32m      3\u001b[0m     \u001b[39mfor\u001b[39;00m j \u001b[39min\u001b[39;00m \u001b[39mrange\u001b[39m(\u001b[39m1\u001b[39m,i\u001b[39m+\u001b[39m\u001b[39m1\u001b[39m):\n",
      "\u001b[1;31mValueError\u001b[0m: invalid literal for int() with base 10: ''"
     ]
    }
   ],
   "source": [
    "rows =int(input(\"Enter number of rows\"))\n",
    "for i in range(1,rows + 1):\n",
    "    for j in range(1,i+1):\n",
    "        print(\"*\", end= \" \")\n",
    "    print(' ')"
   ]
  },
  {
   "cell_type": "code",
   "execution_count": null,
   "id": "568a0439",
   "metadata": {},
   "outputs": [],
   "source": []
  }
 ],
 "metadata": {
  "kernelspec": {
   "display_name": "Python 3",
   "language": "python",
   "name": "python3"
  },
  "language_info": {
   "codemirror_mode": {
    "name": "ipython",
    "version": 3
   },
   "file_extension": ".py",
   "mimetype": "text/x-python",
   "name": "python",
   "nbconvert_exporter": "python",
   "pygments_lexer": "ipython3",
   "version": "3.10.9 (tags/v3.10.9:1dd9be6, Dec  6 2022, 20:01:21) [MSC v.1934 64 bit (AMD64)]"
  },
  "vscode": {
   "interpreter": {
    "hash": "fc89a0ce636c152fdfa56dacf2b3b93d2a9d8b95fcedf9bd3eddc5494b4d4c21"
   }
  }
 },
 "nbformat": 4,
 "nbformat_minor": 5
}
