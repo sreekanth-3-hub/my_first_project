{
 "cells": [
  {
   "cell_type": "markdown",
   "id": "49b737f4",
   "metadata": {},
   "source": [
    "Q1.Write a program using list comprehension to find primes \n",
    "in range 2 to 100."
   ]
  },
  {
   "cell_type": "code",
   "execution_count": 13,
   "id": "45a6815c",
   "metadata": {},
   "outputs": [
    {
     "name": "stdout",
     "output_type": "stream",
     "text": [
      "2 3 5 7 11 13 17 19 23 29 31 37 41 43 47 53 59 61 67 71 73 79 83 89 97 "
     ]
    }
   ],
   "source": [
    "for i in range (2, 101):\n",
    "    count = 0\n",
    "    for j in range(2, (i//2 + 1)):\n",
    "        if(i % j == 0):\n",
    "            count = count + 1\n",
    "            break\n",
    "        \n",
    "    if (count == 0):\n",
    "                print(i, end = ' ')"
   ]
  },
  {
   "cell_type": "markdown",
   "id": "81d9bc1e",
   "metadata": {},
   "source": [
    "Q2.Write a function to reverse a string."
   ]
  },
  {
   "cell_type": "code",
   "execution_count": 14,
   "id": "6bc93dcb",
   "metadata": {},
   "outputs": [
    {
     "name": "stdout",
     "output_type": "stream",
     "text": [
      "nohtyP gninrael ma I\n"
     ]
    },
    {
     "data": {
      "text/plain": [
       "'nohtyP ni doog ma I'"
      ]
     },
     "execution_count": 14,
     "metadata": {},
     "output_type": "execute_result"
    }
   ],
   "source": [
    "def reverse(string):\n",
    "    return string[::-1]\n",
    " \n",
    "string = \"I am learning Python\"\n",
    "print(reverse(string))\n",
    "str1 = \"I am good in Python\"\n",
    "str1[::-1]\n"
   ]
  },
  {
   "cell_type": "markdown",
   "id": "846bfbf1",
   "metadata": {},
   "source": [
    "Q3.Write a program to extract the words from the given list \n",
    "which have their first character in uppercase.\n",
    "Days = ['Monday', 'tuesday','friday', 'Sunday', 'Saturday']\n",
    "Output: ['Monday', 'Sunday', 'Saturday']"
   ]
  },
  {
   "cell_type": "code",
   "execution_count": 15,
   "id": "d7ee7872",
   "metadata": {},
   "outputs": [
    {
     "data": {
      "text/plain": [
       "['Monday', 'Sunday', 'Saturday']"
      ]
     },
     "execution_count": 15,
     "metadata": {},
     "output_type": "execute_result"
    }
   ],
   "source": [
    "days = ['Monday', 'tuesday','friday', 'Sunday', 'Saturday'] \n",
    "L = []\n",
    "for i in days:\n",
    "    if i[0].isupper():\n",
    "        L.append(i)\n",
    "L"
   ]
  },
  {
   "cell_type": "markdown",
   "id": "8fbd3896",
   "metadata": {},
   "source": [
    "Q4.Write a program to extract the year part from the dates in \n",
    "the given list.\n",
    "Batch = ['15-06-1997','15-06-2011','15-06-1993','15-06-2020']\n",
    "Output: ['1997','2011','1993','2020'"
   ]
  },
  {
   "cell_type": "code",
   "execution_count": 1,
   "id": "f313a847",
   "metadata": {},
   "outputs": [
    {
     "data": {
      "text/plain": [
       "[1997, 2011, 1993, 2020]"
      ]
     },
     "execution_count": 1,
     "metadata": {},
     "output_type": "execute_result"
    }
   ],
   "source": [
    "import datetime as dt\n",
    "dates = ['15-06-1997','15-06-2011','15-06-1993','15-06-2020']\n",
    "[dt.datetime.strptime(date_string, \"%d-%m-%Y\").year for date_string in dates]"
   ]
  },
  {
   "cell_type": "markdown",
   "id": "d8d5c42f",
   "metadata": {},
   "source": [
    "Q5.Write a program swap the keys to values and values to \n",
    "keys of the given dictionary.\n",
    "Module = {'Data Science':1,'Machine Learning':2, 'SQL':3, 'Big \n",
    "Data':4}\n",
    "Output: {1:'Data Science',2:'Machine Learning', 3:'SQL', 4:'Big Data'}"
   ]
  },
  {
   "cell_type": "code",
   "execution_count": 2,
   "id": "ca0461f6",
   "metadata": {},
   "outputs": [
    {
     "data": {
      "text/plain": [
       "{1: 'Data Science', 2: 'Machine Learning', 3: 'SQL', 4: 'Big Data'}"
      ]
     },
     "execution_count": 2,
     "metadata": {},
     "output_type": "execute_result"
    }
   ],
   "source": [
    "{'Data Science':1,'Machine Learning':2, 'SQL':3, 'Big Data':4}\n",
    "Mod = {value:key for key, value in Module.items()}\n",
    "Mod"
   ]
  },
  {
   "cell_type": "markdown",
   "id": "ba5c8865",
   "metadata": {},
   "source": [
    "Q6.Write a program to calculate the cumulative average of \n",
    "the given list using accumulate() and lambda function.\n",
    "Input list: [5,2,1,4,6]"
   ]
  },
  {
   "cell_type": "code",
   "execution_count": 21,
   "id": "12e4cb60",
   "metadata": {},
   "outputs": [
    {
     "data": {
      "text/plain": [
       "[5, 3.5, 2.25, 3.125, 4.5625]"
      ]
     },
     "execution_count": 21,
     "metadata": {},
     "output_type": "execute_result"
    }
   ],
   "source": [
    "l = []\n",
    "from itertools import accumulate\n",
    "A = accumulate([5,2,1,4,6],lambda x,y:(x+y)/2)\n",
    "for i in A :\n",
    "    l.append(i)\n",
    " \n",
    "l"
   ]
  },
  {
   "cell_type": "markdown",
   "id": "f87adc84",
   "metadata": {},
   "source": [
    "Q7.Write a program to count the number of elements in the \n",
    "string (given by the user) that are not present in the \n",
    "'my_string'. Do not count the white spaces.\n",
    "Use Recursion\n",
    "my_string = 'Data Science'"
   ]
  },
  {
   "cell_type": "code",
   "execution_count": 22,
   "id": "60278450",
   "metadata": {},
   "outputs": [
    {
     "name": "stdout",
     "output_type": "stream",
     "text": [
      "Enter the string : sreekanth\n"
     ]
    },
    {
     "data": {
      "text/plain": [
       "9"
      ]
     },
     "execution_count": 22,
     "metadata": {},
     "output_type": "execute_result"
    }
   ],
   "source": [
    "my_string = input(\"Enter the string : \")\n",
    "a = len(my_string.replace(\" \", \"\"))\n",
    "a"
   ]
  },
  {
   "cell_type": "markdown",
   "id": "fa2841d4",
   "metadata": {},
   "source": [
    "Q8.Define a function to check whether a number is in a range \n",
    "(1000,10000) or no"
   ]
  },
  {
   "cell_type": "code",
   "execution_count": 23,
   "id": "ca41add9",
   "metadata": {},
   "outputs": [
    {
     "name": "stdout",
     "output_type": "stream",
     "text": [
      " The number is in the range 1000\n"
     ]
    }
   ],
   "source": [
    "def check(x):\n",
    "    if x in range(1000, 10000):\n",
    "        print( \" The number is in the range\", x)\n",
    "    else :\n",
    "        print(\"The number is not in the given range\", x)\n",
    "check(1000)"
   ]
  },
  {
   "cell_type": "markdown",
   "id": "f4453884",
   "metadata": {},
   "source": [
    "Q9Write a program to print pascal triangle upto 6 steps \n",
    "(using list).\n"
   ]
  },
  {
   "cell_type": "code",
   "execution_count": 24,
   "id": "fba29c85",
   "metadata": {},
   "outputs": [
    {
     "name": "stdout",
     "output_type": "stream",
     "text": [
      "       1 \n",
      "      1 1 \n",
      "     1 2 1 \n",
      "    1 3 3 1 \n",
      "   1 4 6 4 1 \n",
      "  1 5 10 10 5 1 \n"
     ]
    }
   ],
   "source": [
    "from math import factorial\n",
    "x = 6\n",
    "for i in range(x):\n",
    "    for j in range(x-i+1):\n",
    "        print(end=\" \")\n",
    "    for j in range(i+1):\n",
    "        print(factorial(i)//(factorial(j)*factorial(i-j)), end=\" \")\n",
    "    print()\n"
   ]
  },
  {
   "cell_type": "markdown",
   "id": "a1d02891",
   "metadata": {},
   "source": [
    "Q10.Write a program to calculate the sum of all elements in \n",
    "the list.\n",
    "test_score = [10, 32, 23, 14, 25]\n"
   ]
  },
  {
   "cell_type": "code",
   "execution_count": 25,
   "id": "5a7c7030",
   "metadata": {},
   "outputs": [
    {
     "data": {
      "text/plain": [
       "104"
      ]
     },
     "execution_count": 25,
     "metadata": {},
     "output_type": "execute_result"
    }
   ],
   "source": [
    "test_score = [10, 32, 23, 14, 25]\n",
    "def sum1(x):\n",
    "    return sum(x)\n",
    "sum1(test_score)\n"
   ]
  },
  {
   "cell_type": "markdown",
   "id": "73d12e5e",
   "metadata": {},
   "source": [
    "Q11.Find the minimum value along each of the rows.\n",
    "Create a 2D Numpy array from list of lists\n",
    "Score = np.array([[210, 402, 383],\n",
    "[140, 375, 106],\n",
    "[140, 125, 217],\n",
    "[292, 240, 295]])"
   ]
  },
  {
   "cell_type": "code",
   "execution_count": 26,
   "id": "ffd716be",
   "metadata": {},
   "outputs": [
    {
     "name": "stdout",
     "output_type": "stream",
     "text": [
      "minimum value of every rows:  [210 106 125 240]\n"
     ]
    }
   ],
   "source": [
    "import numpy as np\n",
    "Score = np.array([[210, 402, 383],\n",
    "[140, 375, 106],\n",
    "[140, 125, 217],\n",
    "[292, 240, 295]])\n",
    "minimum = np.amin(Score, axis=1)\n",
    "print('minimum value of every rows: ', minimum)"
   ]
  },
  {
   "cell_type": "markdown",
   "id": "4f6f90cb",
   "metadata": {},
   "source": [
    "Q12.Replace all even numbers in the array with -1.\n",
    "Use the array given below\n",
    "num_array = np.array([0, 21, 32, 13, 44, 45,\n",
    "26, 28, 38, 34, 65, 48, 76])"
   ]
  },
  {
   "cell_type": "code",
   "execution_count": 27,
   "id": "9fcc308a",
   "metadata": {},
   "outputs": [
    {
     "data": {
      "text/plain": [
       "array([-1, 21, -1, 13, -1, 45, -1, -1, -1, -1, 65, -1, -1])"
      ]
     },
     "execution_count": 27,
     "metadata": {},
     "output_type": "execute_result"
    }
   ],
   "source": [
    "num_array = np.array([0, 21, 32, 13, 44, 45, 26, 28, 38, 34, 65, 48, 76])\n",
    "even = (num_array%2 == 0) \n",
    "num_array[even] = -1\n",
    "num_array[num_array%2 == 0] = -1\n",
    "num_array"
   ]
  },
  {
   "cell_type": "code",
   "execution_count": null,
   "id": "ee035c9c",
   "metadata": {},
   "outputs": [],
   "source": []
  }
 ],
 "metadata": {
  "kernelspec": {
   "display_name": "Python 3",
   "language": "python",
   "name": "python3"
  },
  "language_info": {
   "codemirror_mode": {
    "name": "ipython",
    "version": 3
   },
   "file_extension": ".py",
   "mimetype": "text/x-python",
   "name": "python",
   "nbconvert_exporter": "python",
   "pygments_lexer": "ipython3",
   "version": "3.10.9 (tags/v3.10.9:1dd9be6, Dec  6 2022, 20:01:21) [MSC v.1934 64 bit (AMD64)]"
  },
  "vscode": {
   "interpreter": {
    "hash": "fc89a0ce636c152fdfa56dacf2b3b93d2a9d8b95fcedf9bd3eddc5494b4d4c21"
   }
  }
 },
 "nbformat": 4,
 "nbformat_minor": 5
}
